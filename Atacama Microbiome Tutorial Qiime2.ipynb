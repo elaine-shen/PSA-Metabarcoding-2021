{
 "cells": [
  {
   "cell_type": "markdown",
   "metadata": {},
   "source": [
    "# Working through the \"Atacama Soil Microbiome\" Tutorial in Qiime2\n",
    "- The original tutorial is here in the official Qiime2 docs: https://docs.qiime2.org/2021.2/tutorials/atacama-soils/\n",
    "- This workshop was also adapted from a previous workshop hosted by \n",
    "Joslynn Lee: https://cyverse-jupyter-qiime2.readthedocs-hosted.com/en/latest/\n",
    "\n",
    "### Learning objectives\n",
    "- Understand the analysis steps and core concepts of the Qiime2 software\n",
    "- Generate plots to visualize biodiversity results from metabarcoding data\n",
    "\n",
    "### How this notebook works\n",
    "- Code is fill-in-the-blank, follow along with us as we work through it together!\n",
    "- Stuck or Lost? We have many points of redemption throughout; just download the output files and visualize them here: https://view.qiime2.org/\n",
    "\n",
    "### Steps covered\n",
    "0. Setting up the Jupyter notebook and input files\n",
    "1. Demultiplexing paired-end sequences\n",
    "2. Denoising using DADA2\n",
    "3. Diversity analyses\n",
    "4. Bonus: Taxonomic assignment"
   ]
  },
  {
   "cell_type": "markdown",
   "metadata": {},
   "source": [
    "# 0. Setting up the Jupyter and input files\n",
    "\n",
    "This first step is only because we are using a Jupyter notebook for this workshop. You will not need to run these few lines of code when working with your own datasets on your computer. "
   ]
  },
  {
   "cell_type": "code",
   "execution_count": 2,
   "metadata": {},
   "outputs": [
    {
     "ename": "SyntaxError",
     "evalue": "invalid syntax (<ipython-input-2-9813a27f6ea8>, line 1)",
     "output_type": "error",
     "traceback": [
      "\u001b[0;36m  File \u001b[0;32m\"<ipython-input-2-9813a27f6ea8>\"\u001b[0;36m, line \u001b[0;32m1\u001b[0m\n\u001b[0;31m    pip3 install git+https://github.com/regebro/tzlocal\u001b[0m\n\u001b[0m         ^\u001b[0m\n\u001b[0;31mSyntaxError\u001b[0m\u001b[0;31m:\u001b[0m invalid syntax\n"
     ]
    }
   ],
   "source": [
    "pip3 install git+https://github.com/regebro/tzlocal\n",
    "qiime dev refresh-cache"
   ]
  },
  {
   "cell_type": "markdown",
   "metadata": {},
   "source": [
    "Let's activate Qiime2: "
   ]
  },
  {
   "cell_type": "code",
   "execution_count": null,
   "metadata": {},
   "outputs": [],
   "source": [
    "conda activate qiime2"
   ]
  },
  {
   "cell_type": "markdown",
   "metadata": {},
   "source": [
    "Now, we will make a directory (folder) for our tutorial, as well as a directory for our raw, paired-end sequences. \n",
    "mkdir = make a directory"
   ]
  },
  {
   "cell_type": "code",
   "execution_count": 7,
   "metadata": {},
   "outputs": [
    {
     "ename": "SyntaxError",
     "evalue": "invalid syntax (<ipython-input-7-0328542b900a>, line 1)",
     "output_type": "error",
     "traceback": [
      "\u001b[0;36m  File \u001b[0;32m\"<ipython-input-7-0328542b900a>\"\u001b[0;36m, line \u001b[0;32m1\u001b[0m\n\u001b[0;31m    mkdir qiime2-atacama-tutorial\u001b[0m\n\u001b[0m          ^\u001b[0m\n\u001b[0;31mSyntaxError\u001b[0m\u001b[0;31m:\u001b[0m invalid syntax\n"
     ]
    }
   ],
   "source": [
    "mkdir qiime2-atacama-tutorial\n",
    "cd qiime2-atacama-tutorial"
   ]
  },
  {
   "cell_type": "markdown",
   "metadata": {},
   "source": [
    "Then, we are going to download the sample metadata file from the Qiime2 website. "
   ]
  },
  {
   "cell_type": "code",
   "execution_count": 8,
   "metadata": {},
   "outputs": [
    {
     "ename": "SyntaxError",
     "evalue": "invalid syntax (<ipython-input-8-b3d3f5e06dd0>, line 2)",
     "output_type": "error",
     "traceback": [
      "\u001b[0;36m  File \u001b[0;32m\"<ipython-input-8-b3d3f5e06dd0>\"\u001b[0;36m, line \u001b[0;32m2\u001b[0m\n\u001b[0;31m    -O \"sample-metadata.tsv\" \\\u001b[0m\n\u001b[0m       ^\u001b[0m\n\u001b[0;31mSyntaxError\u001b[0m\u001b[0;31m:\u001b[0m invalid syntax\n"
     ]
    }
   ],
   "source": [
    "wget \\\n",
    "  -O \"sample-metadata.tsv\" \\\n",
    "  \"https://data.qiime2.org/2021.2/tutorials/atacama-soils/sample_metadata.tsv\""
   ]
  },
  {
   "cell_type": "markdown",
   "metadata": {},
   "source": [
    "We are going to put these in it's own directory. You will download three fastq.gz files, corresponding to the forward, reverse, and barcode (i.e., index) reads. These files contain a subset of the reads in the full data set generated for this study, which allows for the following commands to be run relatively quickly, however, we will perform additional subsampling in this tutorial to further improve the run time."
   ]
  },
  {
   "cell_type": "code",
   "execution_count": 9,
   "metadata": {},
   "outputs": [
    {
     "ename": "SyntaxError",
     "evalue": "invalid syntax (<ipython-input-9-f55f9235fda5>, line 1)",
     "output_type": "error",
     "traceback": [
      "\u001b[0;36m  File \u001b[0;32m\"<ipython-input-9-f55f9235fda5>\"\u001b[0;36m, line \u001b[0;32m1\u001b[0m\n\u001b[0;31m    mkdir emp-paired-end-sequences\u001b[0m\n\u001b[0m          ^\u001b[0m\n\u001b[0;31mSyntaxError\u001b[0m\u001b[0;31m:\u001b[0m invalid syntax\n"
     ]
    }
   ],
   "source": [
    "mkdir emp-paired-end-sequences"
   ]
  },
  {
   "cell_type": "code",
   "execution_count": 10,
   "metadata": {},
   "outputs": [
    {
     "ename": "SyntaxError",
     "evalue": "invalid syntax (<ipython-input-10-d9835a368b24>, line 2)",
     "output_type": "error",
     "traceback": [
      "\u001b[0;36m  File \u001b[0;32m\"<ipython-input-10-d9835a368b24>\"\u001b[0;36m, line \u001b[0;32m2\u001b[0m\n\u001b[0;31m    -O \"emp-paired-end-sequences/forward.fastq.gz\" \\\u001b[0m\n\u001b[0m       ^\u001b[0m\n\u001b[0;31mSyntaxError\u001b[0m\u001b[0;31m:\u001b[0m invalid syntax\n"
     ]
    }
   ],
   "source": [
    "wget \\\n",
    "  -O \"emp-paired-end-sequences/forward.fastq.gz\" \\\n",
    "  \"https://data.qiime2.org/2021.2/tutorials/atacama-soils/10p/forward.fastq.gz\""
   ]
  },
  {
   "cell_type": "code",
   "execution_count": 11,
   "metadata": {},
   "outputs": [
    {
     "ename": "SyntaxError",
     "evalue": "invalid syntax (<ipython-input-11-38eeb672496d>, line 2)",
     "output_type": "error",
     "traceback": [
      "\u001b[0;36m  File \u001b[0;32m\"<ipython-input-11-38eeb672496d>\"\u001b[0;36m, line \u001b[0;32m2\u001b[0m\n\u001b[0;31m    -O \"emp-paired-end-sequences/reverse.fastq.gz\" \\\u001b[0m\n\u001b[0m       ^\u001b[0m\n\u001b[0;31mSyntaxError\u001b[0m\u001b[0;31m:\u001b[0m invalid syntax\n"
     ]
    }
   ],
   "source": [
    "wget \\\n",
    "  -O \"emp-paired-end-sequences/reverse.fastq.gz\" \\\n",
    "  \"https://data.qiime2.org/2021.2/tutorials/atacama-soils/10p/reverse.fastq.gz\""
   ]
  },
  {
   "cell_type": "code",
   "execution_count": 12,
   "metadata": {},
   "outputs": [
    {
     "ename": "SyntaxError",
     "evalue": "invalid syntax (<ipython-input-12-5bdd97c43824>, line 2)",
     "output_type": "error",
     "traceback": [
      "\u001b[0;36m  File \u001b[0;32m\"<ipython-input-12-5bdd97c43824>\"\u001b[0;36m, line \u001b[0;32m2\u001b[0m\n\u001b[0;31m    -O \"emp-paired-end-sequences/barcodes.fastq.gz\" \\\u001b[0m\n\u001b[0m       ^\u001b[0m\n\u001b[0;31mSyntaxError\u001b[0m\u001b[0;31m:\u001b[0m invalid syntax\n"
     ]
    }
   ],
   "source": [
    "wget \\\n",
    "  -O \"emp-paired-end-sequences/barcodes.fastq.gz\" \\\n",
    "  \"https://data.qiime2.org/2021.2/tutorials/atacama-soils/10p/barcodes.fastq.gz\""
   ]
  },
  {
   "cell_type": "markdown",
   "metadata": {},
   "source": [
    "# 1. Demultiplexing reads"
   ]
  },
  {
   "cell_type": "markdown",
   "metadata": {},
   "source": [
    "To analyze these data, the sequences that you just downloaded must first be imported into an artifact of type EMPPairedEndSequences."
   ]
  },
  {
   "cell_type": "code",
   "execution_count": 13,
   "metadata": {},
   "outputs": [
    {
     "ename": "SyntaxError",
     "evalue": "invalid syntax (<ipython-input-13-10621773bcc3>, line 1)",
     "output_type": "error",
     "traceback": [
      "\u001b[0;36m  File \u001b[0;32m\"<ipython-input-13-10621773bcc3>\"\u001b[0;36m, line \u001b[0;32m1\u001b[0m\n\u001b[0;31m    qiime tools import \\\u001b[0m\n\u001b[0m          ^\u001b[0m\n\u001b[0;31mSyntaxError\u001b[0m\u001b[0;31m:\u001b[0m invalid syntax\n"
     ]
    }
   ],
   "source": [
    "qiime tools import \\\n",
    "   --type EMPPairedEndSequences \\\n",
    "   --input-path emp-paired-end-sequences \\\n",
    "   --output-path emp-paired-end-sequences.qza"
   ]
  },
  {
   "cell_type": "markdown",
   "metadata": {},
   "source": [
    "We will now demultiplex the sequence reads. This requires the sample metadata file, specifically the column in the file that contains the per-sample barcodes. Here, the file is called barcode-sequence. Because the barcode reads are the reverse complement of those included in the sample metadata file, we can include the --p-rev-comp-mapping-barcodes parameter. One output of this file is looking at a summary of how many sequences were obtained per sample. "
   ]
  },
  {
   "cell_type": "code",
   "execution_count": null,
   "metadata": {},
   "outputs": [],
   "source": [
    "qiime demux emp-paired \\\n",
    "  --m-barcodes-file sample-metadata.tsv \\\n",
    "  --m-barcodes-column barcode-sequence \\\n",
    "  --p-rev-comp-mapping-barcodes \\\n",
    "  --i-seqs emp-paired-end-sequences.qza \\\n",
    "  --o-per-sample-sequences demux-full.qza \\\n",
    "  --o-error-correction-details demux-details.qza"
   ]
  },
  {
   "cell_type": "markdown",
   "metadata": {},
   "source": [
    "Let's subsample the data - this will speed up the tutorial and run time, and demonstrate the functionality. Other uses of subsampling need to be thought through with reasonable justification. "
   ]
  },
  {
   "cell_type": "code",
   "execution_count": null,
   "metadata": {},
   "outputs": [],
   "source": [
    "qiime demux subsample-paired \\\n",
    "  --i-sequences demux-full.qza \\\n",
    "  --p-fraction 0.3 \\\n",
    "  --o-subsampled-sequences demux-subsample.qza\n",
    "\n",
    "qiime demux summarize \\\n",
    "  --i-data demux-subsample.qza \\\n",
    "  --o-visualization demux-subsample.qzv"
   ]
  },
  {
   "cell_type": "markdown",
   "metadata": {},
   "source": [
    "We can view the summary of our subsampled dataset to examine how many sequence counts were in each sample. Here, there are 75 samples in the data and the last 20 or so of the rows in the table have fewer than 100 reads in them, which can be filtered out of the data:"
   ]
  },
  {
   "cell_type": "code",
   "execution_count": null,
   "metadata": {},
   "outputs": [],
   "source": [
    "qiime tools export \\\n",
    "  --input-path demux-subsample.qzv \\\n",
    "  --output-path ./demux-subsample/\n",
    "\n",
    "qiime demux filter-samples \\\n",
    "  --i-demux demux-subsample.qza \\\n",
    "  --m-metadata-file ./demux-subsample/per-sample-fastq-counts.tsv \\\n",
    "  --p-where 'CAST([forward sequence count] AS INT) > 100' \\\n",
    "  --o-filtered-demux demux.qza"
   ]
  },
  {
   "cell_type": "markdown",
   "metadata": {},
   "source": [
    "# 2. Denoising\n",
    "We will look at the sequence quality based on 10,000 randomly selected reads from the subsampled and filtered data, then denoise it based on the quality plots. There will be two plots showing quality scores - one for the forward reads and one for the reverse reads. These plots will help us determine what trimming parameters we want to denoise with, using DADA2. \n",
    "\n",
    "In this example, we have 150-base forward and reverse reads. We need to keep in mind that the paired reads need to be long enough to overlap so they (the forward and reverse sequences) can merge. We will trim off the first 13 bases of the forward and reverse reads, but will not trim the end of the sequences, to avoid reducing the read length too much. You do not have to keep the trimming or truncation lengths the same for your forward and reverse sequences, but we are doing that here:"
   ]
  },
  {
   "cell_type": "code",
   "execution_count": 14,
   "metadata": {},
   "outputs": [
    {
     "ename": "SyntaxError",
     "evalue": "invalid syntax (<ipython-input-14-36b639cdd794>, line 1)",
     "output_type": "error",
     "traceback": [
      "\u001b[0;36m  File \u001b[0;32m\"<ipython-input-14-36b639cdd794>\"\u001b[0;36m, line \u001b[0;32m1\u001b[0m\n\u001b[0;31m    qiime dada2 denoise-paired \\\u001b[0m\n\u001b[0m          ^\u001b[0m\n\u001b[0;31mSyntaxError\u001b[0m\u001b[0;31m:\u001b[0m invalid syntax\n"
     ]
    }
   ],
   "source": [
    "qiime dada2 denoise-paired \\\n",
    "  --i-demultiplexed-seqs demux.qza \\\n",
    "  --p-trim-left-f 13 \\\n",
    "  --p-trim-left-r 13 \\\n",
    "  --p-trunc-len-f 150 \\\n",
    "  --p-trunc-len-r 150 \\\n",
    "  --o-table table.qza \\\n",
    "  --o-representative-sequences rep-seqs.qza \\\n",
    "  --o-denoising-stats denoising-stats.qza"
   ]
  },
  {
   "cell_type": "markdown",
   "metadata": {},
   "source": [
    "Now, we have artifacts containing the feature table, corresponding feature sequences, and DADA2 denoising statistics. We can generate summaries of these data:"
   ]
  },
  {
   "cell_type": "code",
   "execution_count": 15,
   "metadata": {},
   "outputs": [
    {
     "ename": "SyntaxError",
     "evalue": "invalid syntax (<ipython-input-15-bbb7e9c794c5>, line 1)",
     "output_type": "error",
     "traceback": [
      "\u001b[0;36m  File \u001b[0;32m\"<ipython-input-15-bbb7e9c794c5>\"\u001b[0;36m, line \u001b[0;32m1\u001b[0m\n\u001b[0;31m    qiime feature-table summarize \\\u001b[0m\n\u001b[0m          ^\u001b[0m\n\u001b[0;31mSyntaxError\u001b[0m\u001b[0;31m:\u001b[0m invalid syntax\n"
     ]
    }
   ],
   "source": [
    "qiime feature-table summarize \\\n",
    "  --i-table table.qza \\\n",
    "  --o-visualization table.qzv \\\n",
    "  --m-sample-metadata-file sample-metadata.tsv\n",
    "\n",
    "qiime feature-table tabulate-seqs \\\n",
    "  --i-data rep-seqs.qza \\\n",
    "  --o-visualization rep-seqs.qzv\n",
    "\n",
    "qiime metadata tabulate \\\n",
    "  --m-input-file denoising-stats.qza \\\n",
    "  --o-visualization denoising-stats.qzv"
   ]
  },
  {
   "cell_type": "markdown",
   "metadata": {},
   "source": [
    "# 3. Alpha and beta diversity analysis\n",
    "QIIME2 offers diversity analyses through the q2-diversity plugin, which supports computing alpha and beta diversity metrics, applying related statistical tests, and generating interactive visualizations. We will first use the core-metrics-phylogenetic method, which rarefies a FeatureTable[Frequency] to a user-specified depth,  computes several alpha and beta diversity metrics, and generates principle coordinates analysis (PCoA) plots using Emperor for each of the beta diversity metrics. The metrics computed by default are:\n",
    "\n",
    "Alpha diversity\n",
    "\n",
    "   - Shannon’s diversity index (a quantitative measure of community richness)\n",
    "   - Observed Features (a qualitative measure of community richness)\n",
    "   - Faith’s Phylogenetic Diversity (a qualitiative measure of community richness that incorporates phylogenetic relationships between the features)\n",
    "   - Evenness (or Pielou’s Evenness; a measure of community evenness)\n",
    "\n",
    "Beta diversity\n",
    "\n",
    "   - Jaccard distance (a qualitative measure of community dissimilarity)\n",
    "   - Bray-Curtis distance (a quantitative measure of community dissimilarity)\n",
    "   - unweighted UniFrac distance (a qualitative measure of community dissimilarity that incorporates phylogenetic relationships between the features)\n",
    "   - weighted UniFrac distance (a quantitative measure of community dissimilarity that incorporates phylogenetic relationships between the features)\n",
    "\n",
    "An important parameter that needs to be provided to this script is --p-sampling-depth, which is the even sampling (i.e. rarefaction) depth. Because most diversity metrics are sensitive to different sampling depths across different samples, this script will randomly subsample the counts from each sample to the value provided for this parameter. For example, if you provide --p-sampling-depth 500, this step will subsample the counts in each sample without replacement so that each sample in the resulting table has a total count of 500. If the total count for any sample(s) are smaller than this value, those samples will be dropped from the diversity analysis. Choosing this value is tricky. We recommend making your choice by reviewing the information presented in the table.qzv file that was created above. Choose a value that is as high as possible (so you retain more sequences per sample) while excluding as few samples as possible.\n",
    "\n",
    "Looking at the table.qzv Qiime2 artifact we just generated, in particular the 'Interative Sample Detail' tab in that visualization, what value would you choose to pass for --p-sampling-depth? How many samples will be excluded from your analysis based on this choice? How many total sequences will you be analyzing in the core-metrics-phylogenetic command?"
   ]
  },
  {
   "cell_type": "code",
   "execution_count": null,
   "metadata": {},
   "outputs": [],
   "source": [
    "qiime diversity core-metrics-phylogenetic \\\n",
    "  --i-phylogeny rooted-tree.qza \\\n",
    "  --i-table table.qza \\\n",
    "  --p-sampling-depth 1103 \\\n",
    "  --m-metadata-file sample-metadata.tsv \\\n",
    "  --output-dir core-metrics-results"
   ]
  }
 ],
 "metadata": {
  "kernelspec": {
   "display_name": "Python 3",
   "language": "python",
   "name": "python3"
  },
  "language_info": {
   "codemirror_mode": {
    "name": "ipython",
    "version": 3
   },
   "file_extension": ".py",
   "mimetype": "text/x-python",
   "name": "python",
   "nbconvert_exporter": "python",
   "pygments_lexer": "ipython3",
   "version": "3.8.5"
  }
 },
 "nbformat": 4,
 "nbformat_minor": 4
}
