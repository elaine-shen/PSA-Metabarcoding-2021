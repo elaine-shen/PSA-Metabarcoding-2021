{
 "cells": [
  {
   "cell_type": "markdown",
   "metadata": {},
   "source": [
    "# Working through the \"Atacama Soil Microbiome\" Tutorial in Qiime2\n",
    "- The original tutorial is here in the official Qiime2 docs: https://docs.qiime2.org/2021.2/tutorials/atacama-soils/\n",
    "- This workshop was also adapted from a previous workshop hosted by \n",
    "Joslynn Lee: https://cyverse-jupyter-qiime2.readthedocs-hosted.com/en/latest/\n",
    "\n",
    "### Learning objectives:\n",
    "- Understand the analysis steps and core concepts of the Qiime2 software\n",
    "- Generate plots to visualize biodiversity results from metabarcoding data\n",
    "\n",
    "### How this notebook works:\n",
    "- Code is fill-in-the-blank, follow along with us as we work through it together!\n",
    "- Stuck or Lost? We have many points of redemption throughout; just download the output files and visualize them here: https://view.qiime2.org/\n",
    "\n",
    "### Steps covered:\n",
    "0. Setting up the Jupyter notebook and input files\n",
    "1. Demultiplexing paired-end sequences\n",
    "2. Denoising using DADA2\n",
    "3. Diversity analyses\n",
    "4. Bonus: Taxonomic assignment"
   ]
  },
  {
   "cell_type": "markdown",
   "metadata": {},
   "source": [
    "# 0. Setting up the Jupyter and input files\n",
    "\n",
    "This first step is only because we are using a Jupyter notebook for this workshop. You will not need to run these few lines of code when working with your own datasets on your computer. "
   ]
  },
  {
   "cell_type": "code",
   "execution_count": 1,
   "metadata": {},
   "outputs": [
    {
     "name": "stdout",
     "output_type": "stream",
     "text": [
      "Collecting git+https://github.com/regebro/tzlocal\n",
      "  Cloning https://github.com/regebro/tzlocal to /tmp/pip-req-build-k17vrcaj\n",
      "  Running command git clone -q https://github.com/regebro/tzlocal /tmp/pip-req-build-k17vrcaj\n",
      "  Installing build dependencies ... \u001b[?25ldone\n",
      "\u001b[?25h  Getting requirements to build wheel ... \u001b[?25ldone\n",
      "\u001b[?25h    Preparing wheel metadata ... \u001b[?25ldone\n",
      "\u001b[?25hRequirement already satisfied (use --upgrade to upgrade): tzlocal==3.0b2.dev0 from git+https://github.com/regebro/tzlocal in /srv/conda/envs/notebook/lib/python3.6/site-packages\n",
      "Requirement already satisfied: backports.zoneinfo; python_version < \"3.9\" in /srv/conda/envs/notebook/lib/python3.6/site-packages (from tzlocal==3.0b2.dev0) (0.2.1)\n",
      "Requirement already satisfied: importlib-resources; python_version < \"3.7\" in /srv/conda/envs/notebook/lib/python3.6/site-packages (from backports.zoneinfo; python_version < \"3.9\"->tzlocal==3.0b2.dev0) (5.1.4)\n",
      "Requirement already satisfied: zipp>=3.1.0; python_version < \"3.10\" in /srv/conda/envs/notebook/lib/python3.6/site-packages (from importlib-resources; python_version < \"3.7\"->backports.zoneinfo; python_version < \"3.9\"->tzlocal==3.0b2.dev0) (3.1.0)\n",
      "Building wheels for collected packages: tzlocal\n",
      "  Building wheel for tzlocal (PEP 517) ... \u001b[?25ldone\n",
      "\u001b[?25h  Created wheel for tzlocal: filename=tzlocal-3.0b2.dev0-py3-none-any.whl size=16632 sha256=f5c305fe528df09ad749d31f68d0df6325cc12a45d2a28d65d78be1415d118a7\n",
      "  Stored in directory: /tmp/pip-ephem-wheel-cache-46nf_q0f/wheels/ad/0c/96/10852f06599a3c7ad57c560572a82b3365ec56ffab8dbbdcc1\n",
      "Successfully built tzlocal\n",
      "\u001b[33mQIIME is caching your current deployment for improved performance. This may take a few moments and should only happen once per deployment.\u001b[0m\n"
     ]
    }
   ],
   "source": [
    "pip3 install git+https://github.com/regebro/tzlocal\n",
    "qiime dev refresh-cache"
   ]
  },
  {
   "cell_type": "markdown",
   "metadata": {},
   "source": [
    "Generally on your local computer, you will need to activate Qiime2 using conda. Here, we have pre-loaded it, so you will not need to run this command: "
   ]
  },
  {
   "cell_type": "code",
   "execution_count": 2,
   "metadata": {},
   "outputs": [],
   "source": [
    "# conda activate qiime2"
   ]
  },
  {
   "cell_type": "markdown",
   "metadata": {},
   "source": [
    "Now, we will make a directory (folder) for our tutorial, as well as a directory for our raw, paired-end sequences. \n",
    "mkdir = make a directory"
   ]
  },
  {
   "cell_type": "code",
   "execution_count": 3,
   "metadata": {},
   "outputs": [
    {
     "name": "stdout",
     "output_type": "stream",
     "text": [
      "mkdir: cannot create directory ‘qiime2-atacama-tutorial’: File exists\n"
     ]
    }
   ],
   "source": [
    "mkdir qiime2-atacama-tutorial\n",
    "cd qiime2-atacama-tutorial"
   ]
  },
  {
   "cell_type": "markdown",
   "metadata": {},
   "source": [
    "Then, we are going to download the sample metadata file from the Qiime2 website. "
   ]
  },
  {
   "cell_type": "code",
   "execution_count": 4,
   "metadata": {},
   "outputs": [
    {
     "name": "stdout",
     "output_type": "stream",
     "text": [
      "--2021-06-09 20:05:54--  https://data.qiime2.org/2021.2/tutorials/atacama-soils/sample_metadata.tsv\n",
      "Resolving data.qiime2.org (data.qiime2.org)... 54.200.1.12\n",
      "Connecting to data.qiime2.org (data.qiime2.org)|54.200.1.12|:443... connected.\n",
      "HTTP request sent, awaiting response... 302 FOUND\n",
      "Location: https://docs.google.com/spreadsheets/d/1r5nh74kOx7o3YqSjmP0GsWXifaHE-lrPgTFEM7aD87U/export?gid=0&format=tsv [following]\n",
      "--2021-06-09 20:05:54--  https://docs.google.com/spreadsheets/d/1r5nh74kOx7o3YqSjmP0GsWXifaHE-lrPgTFEM7aD87U/export?gid=0&format=tsv\n",
      "Resolving docs.google.com (docs.google.com)... 172.253.119.139, 172.253.119.113, 172.253.119.138, ...\n",
      "Connecting to docs.google.com (docs.google.com)|172.253.119.139|:443... connected.\n",
      "HTTP request sent, awaiting response... 307 Temporary Redirect\n",
      "Location: https://doc-0k-6o-sheets.googleusercontent.com/export/l5l039s6ni5uumqbsj9o11lmdc/veppkd4s7tip7ljuo63vclo2ts/1623269155000/103995680502445084602/*/1r5nh74kOx7o3YqSjmP0GsWXifaHE-lrPgTFEM7aD87U?gid=0&format=tsv [following]\n",
      "Warning: wildcards not supported in HTTP.\n",
      "--2021-06-09 20:05:55--  https://doc-0k-6o-sheets.googleusercontent.com/export/l5l039s6ni5uumqbsj9o11lmdc/veppkd4s7tip7ljuo63vclo2ts/1623269155000/103995680502445084602/*/1r5nh74kOx7o3YqSjmP0GsWXifaHE-lrPgTFEM7aD87U?gid=0&format=tsv\n",
      "Resolving doc-0k-6o-sheets.googleusercontent.com (doc-0k-6o-sheets.googleusercontent.com)... 142.250.152.132, 2607:f8b0:4001:c56::84\n",
      "Connecting to doc-0k-6o-sheets.googleusercontent.com (doc-0k-6o-sheets.googleusercontent.com)|142.250.152.132|:443... connected.\n",
      "HTTP request sent, awaiting response... 200 OK\n",
      "Length: unspecified [text/tab-separated-values]\n",
      "Saving to: ‘sample-metadata.tsv’\n",
      "\n",
      "sample-metadata.tsv     [ <=>                ]   9.21K  --.-KB/s    in 0s      \n",
      "\n",
      "2021-06-09 20:05:55 (37.0 MB/s) - ‘sample-metadata.tsv’ saved [9433]\n",
      "\n"
     ]
    }
   ],
   "source": [
    "wget \\\n",
    "  -O \"sample-metadata.tsv\" \\\n",
    "  \"https://data.qiime2.org/2021.2/tutorials/atacama-soils/sample_metadata.tsv\""
   ]
  },
  {
   "cell_type": "markdown",
   "metadata": {},
   "source": [
    "We are going to put these raw sequences in their own directory. You will download three fastq.gz files, corresponding to the forward, reverse, and barcode (i.e., index) reads. These files contain a subset of the reads in the full data set generated for this study, which allows for the following commands to be run relatively quickly, however, we will perform additional subsampling in this tutorial to further improve the run time."
   ]
  },
  {
   "cell_type": "code",
   "execution_count": 5,
   "metadata": {},
   "outputs": [
    {
     "name": "stdout",
     "output_type": "stream",
     "text": [
      "mkdir: cannot create directory ‘emp-paired-end-sequences’: File exists\n",
      "--2021-06-09 20:05:56--  https://data.qiime2.org/2021.2/tutorials/atacama-soils/10p/forward.fastq.gz\n",
      "Resolving data.qiime2.org (data.qiime2.org)... 54.200.1.12\n",
      "Connecting to data.qiime2.org (data.qiime2.org)|54.200.1.12|:443... connected.\n",
      "HTTP request sent, awaiting response... 302 FOUND\n",
      "Location: https://s3-us-west-2.amazonaws.com/qiime2-data/2021.2/tutorials/atacama-soils/10p/forward.fastq.gz [following]\n",
      "--2021-06-09 20:05:56--  https://s3-us-west-2.amazonaws.com/qiime2-data/2021.2/tutorials/atacama-soils/10p/forward.fastq.gz\n",
      "Resolving s3-us-west-2.amazonaws.com (s3-us-west-2.amazonaws.com)... 52.92.144.128\n",
      "Connecting to s3-us-west-2.amazonaws.com (s3-us-west-2.amazonaws.com)|52.92.144.128|:443... connected.\n",
      "HTTP request sent, awaiting response... 200 OK\n",
      "Length: 143193967 (137M) [binary/octet-stream]\n",
      "Saving to: ‘emp-paired-end-sequences/forward.fastq.gz’\n",
      "\n",
      "emp-paired-end-sequ 100%[===================>] 136.56M  31.6MB/s    in 4.5s    \n",
      "\n",
      "2021-06-09 20:06:01 (30.5 MB/s) - ‘emp-paired-end-sequences/forward.fastq.gz’ saved [143193967/143193967]\n",
      "\n",
      "--2021-06-09 20:06:02--  https://data.qiime2.org/2021.2/tutorials/atacama-soils/10p/reverse.fastq.gz\n",
      "Resolving data.qiime2.org (data.qiime2.org)... 54.200.1.12\n",
      "Connecting to data.qiime2.org (data.qiime2.org)|54.200.1.12|:443... connected.\n",
      "HTTP request sent, awaiting response... 302 FOUND\n",
      "Location: https://s3-us-west-2.amazonaws.com/qiime2-data/2021.2/tutorials/atacama-soils/10p/reverse.fastq.gz [following]\n",
      "--2021-06-09 20:06:02--  https://s3-us-west-2.amazonaws.com/qiime2-data/2021.2/tutorials/atacama-soils/10p/reverse.fastq.gz\n",
      "Resolving s3-us-west-2.amazonaws.com (s3-us-west-2.amazonaws.com)... 52.218.154.104\n",
      "Connecting to s3-us-west-2.amazonaws.com (s3-us-west-2.amazonaws.com)|52.218.154.104|:443... connected.\n",
      "HTTP request sent, awaiting response... 200 OK\n",
      "Length: 161032441 (154M) [binary/octet-stream]\n",
      "Saving to: ‘emp-paired-end-sequences/reverse.fastq.gz’\n",
      "\n",
      "emp-paired-end-sequ 100%[===================>] 153.57M  26.2MB/s    in 6.0s    \n",
      "\n",
      "2021-06-09 20:06:09 (25.8 MB/s) - ‘emp-paired-end-sequences/reverse.fastq.gz’ saved [161032441/161032441]\n",
      "\n",
      "--2021-06-09 20:06:09--  https://data.qiime2.org/2021.2/tutorials/atacama-soils/10p/barcodes.fastq.gz\n",
      "Resolving data.qiime2.org (data.qiime2.org)... 54.200.1.12\n",
      "Connecting to data.qiime2.org (data.qiime2.org)|54.200.1.12|:443... connected.\n",
      "HTTP request sent, awaiting response... 302 FOUND\n",
      "Location: https://s3-us-west-2.amazonaws.com/qiime2-data/2021.2/tutorials/atacama-soils/10p/barcodes.fastq.gz [following]\n",
      "--2021-06-09 20:06:10--  https://s3-us-west-2.amazonaws.com/qiime2-data/2021.2/tutorials/atacama-soils/10p/barcodes.fastq.gz\n",
      "Resolving s3-us-west-2.amazonaws.com (s3-us-west-2.amazonaws.com)... 52.218.136.16\n",
      "Connecting to s3-us-west-2.amazonaws.com (s3-us-west-2.amazonaws.com)|52.218.136.16|:443... connected.\n",
      "HTTP request sent, awaiting response... 200 OK\n",
      "Length: 19976093 (19M) [binary/octet-stream]\n",
      "Saving to: ‘emp-paired-end-sequences/barcodes.fastq.gz’\n",
      "\n",
      "emp-paired-end-sequ 100%[===================>]  19.05M  23.1MB/s    in 0.8s    \n",
      "\n",
      "2021-06-09 20:06:11 (23.1 MB/s) - ‘emp-paired-end-sequences/barcodes.fastq.gz’ saved [19976093/19976093]\n",
      "\n"
     ]
    }
   ],
   "source": [
    "mkdir emp-paired-end-sequences\n",
    "\n",
    "wget \\\n",
    "  -O \"emp-paired-end-sequences/forward.fastq.gz\" \\\n",
    "  \"https://data.qiime2.org/2021.2/tutorials/atacama-soils/10p/forward.fastq.gz\"\n",
    "\n",
    "wget \\\n",
    "  -O \"emp-paired-end-sequences/reverse.fastq.gz\" \\\n",
    "  \"https://data.qiime2.org/2021.2/tutorials/atacama-soils/10p/reverse.fastq.gz\"\n",
    "\n",
    "wget \\\n",
    "  -O \"emp-paired-end-sequences/barcodes.fastq.gz\" \\\n",
    "  \"https://data.qiime2.org/2021.2/tutorials/atacama-soils/10p/barcodes.fastq.gz\""
   ]
  },
  {
   "cell_type": "markdown",
   "metadata": {},
   "source": [
    "# 1. Demultiplexing reads\n",
    "\n",
    "To analyze these data, the sequences that you just downloaded must first be imported into an artifact of type EMPPairedEndSequences."
   ]
  },
  {
   "cell_type": "code",
   "execution_count": 6,
   "metadata": {},
   "outputs": [
    {
     "name": "stdout",
     "output_type": "stream",
     "text": [
      "\u001b[32mImported emp-paired-end-sequences as EMPPairedEndDirFmt to emp-paired-end-sequences.qza\u001b[0m\n"
     ]
    }
   ],
   "source": [
    "qiime tools import \\\n",
    "   --type EMPPairedEndSequences \\\n",
    "   --input-path emp-paired-end-sequences \\\n",
    "   --output-path emp-paired-end-sequences.qza"
   ]
  },
  {
   "cell_type": "markdown",
   "metadata": {},
   "source": [
    "We will now demultiplex the sequence reads. This requires the sample metadata file, specifically the column in the file that contains the per-sample barcodes. Here, the file is called barcode-sequence. Because the barcode reads are the reverse complement of those included in the sample metadata file, we can include the --p-rev-comp-mapping-barcodes parameter. One output of this file is looking at a summary of how many sequences were obtained per sample. \n",
    "\n",
    "The below code may take a few minutes to run."
   ]
  },
  {
   "cell_type": "code",
   "execution_count": 7,
   "metadata": {},
   "outputs": [
    {
     "name": "stdout",
     "output_type": "stream",
     "text": [
      "\u001b[32mSaved SampleData[PairedEndSequencesWithQuality] to: demux-full.qza\u001b[0m\n",
      "\u001b[32mSaved ErrorCorrectionDetails to: demux-details.qza\u001b[0m\n"
     ]
    }
   ],
   "source": [
    "qiime demux emp-paired \\\n",
    "  --m-barcodes-file sample-metadata.tsv \\\n",
    "  --m-barcodes-column barcode-sequence \\\n",
    "  --p-rev-comp-mapping-barcodes \\\n",
    "  --i-seqs emp-paired-end-sequences.qza \\\n",
    "  --o-per-sample-sequences demux-full.qza \\\n",
    "  --o-error-correction-details demux-details.qza"
   ]
  },
  {
   "cell_type": "markdown",
   "metadata": {},
   "source": [
    "Let's subsample the data - this will speed up the tutorial and run time, and demonstrate the functionality. Other uses of subsampling need to be thought through with reasonable justification. "
   ]
  },
  {
   "cell_type": "code",
   "execution_count": 8,
   "metadata": {},
   "outputs": [
    {
     "name": "stdout",
     "output_type": "stream",
     "text": [
      "\u001b[32mSaved SampleData[PairedEndSequencesWithQuality] to: demux-subsample.qza\u001b[0m\n",
      "\u001b[32mSaved Visualization to: demux-subsample.qzv\u001b[0m\n"
     ]
    }
   ],
   "source": [
    "qiime demux subsample-paired \\\n",
    "  --i-sequences demux-full.qza \\\n",
    "  --p-fraction 0.3 \\\n",
    "  --o-subsampled-sequences demux-subsample.qza\n",
    "\n",
    "qiime demux summarize \\\n",
    "  --i-data demux-subsample.qza \\\n",
    "  --o-visualization demux-subsample.qzv"
   ]
  },
  {
   "cell_type": "markdown",
   "metadata": {},
   "source": [
    "We can view the summary of our subsampled dataset to examine how many sequence counts were in each sample. Here, there are 75 samples in the data and the last 20 or so of the rows in the table have fewer than 100 reads in them, which can be filtered out of the data:"
   ]
  },
  {
   "cell_type": "code",
   "execution_count": 9,
   "metadata": {},
   "outputs": [
    {
     "name": "stdout",
     "output_type": "stream",
     "text": [
      "\u001b[32mExported demux-subsample.qzv as Visualization to directory ./demux-subsample/\u001b[0m\n",
      "\u001b[32mSaved SampleData[PairedEndSequencesWithQuality] to: demux.qza\u001b[0m\n"
     ]
    }
   ],
   "source": [
    "qiime tools export \\\n",
    "  --input-path demux-subsample.qzv \\\n",
    "  --output-path ./demux-subsample/\n",
    "\n",
    "qiime demux filter-samples \\\n",
    "  --i-demux demux-subsample.qza \\\n",
    "  --m-metadata-file ./demux-subsample/per-sample-fastq-counts.tsv \\\n",
    "  --p-where 'CAST([forward sequence count] AS INT) > 100' \\\n",
    "  --o-filtered-demux demux.qza"
   ]
  },
  {
   "cell_type": "markdown",
   "metadata": {},
   "source": [
    "# 2. Denoising\n",
    "We will look at the sequence quality based on 10,000 randomly selected reads from the subsampled and filtered data, then denoise it based on the quality plots. There will be two plots showing quality scores - one for the forward reads and one for the reverse reads. These plots will help us determine what trimming parameters we want to denoise with, using DADA2. \n",
    "\n",
    "In this example, we have 150-base forward and reverse reads. We need to keep in mind that the paired reads need to be long enough to overlap so they (the forward and reverse sequences) can merge. We will trim off the first 13 bases of the forward and reverse reads, but will not trim the end of the sequences, to avoid reducing the read length too much. You do not have to keep the trimming or truncation lengths the same for your forward and reverse sequences, but we are doing that here:\n",
    "\n",
    "The following code may take a few minutes to run. "
   ]
  },
  {
   "cell_type": "code",
   "execution_count": 10,
   "metadata": {},
   "outputs": [
    {
     "name": "stdout",
     "output_type": "stream",
     "text": [
      "\u001b[32mSaved FeatureTable[Frequency] to: table.qza\u001b[0m\n",
      "\u001b[32mSaved FeatureData[Sequence] to: rep-seqs.qza\u001b[0m\n",
      "\u001b[32mSaved SampleData[DADA2Stats] to: denoising-stats.qza\u001b[0m\n"
     ]
    }
   ],
   "source": [
    "qiime dada2 denoise-paired \\\n",
    "  --i-demultiplexed-seqs demux.qza \\\n",
    "  --p-trim-left-f 13 \\\n",
    "  --p-trim-left-r 13 \\\n",
    "  --p-trunc-len-f 150 \\\n",
    "  --p-trunc-len-r 150 \\\n",
    "  --o-table table.qza \\\n",
    "  --o-representative-sequences rep-seqs.qza \\\n",
    "  --o-denoising-stats denoising-stats.qza"
   ]
  },
  {
   "cell_type": "markdown",
   "metadata": {},
   "source": [
    "Now, we have artifacts containing the feature table, corresponding feature sequences, and DADA2 denoising statistics. We can generate summaries of these data:"
   ]
  },
  {
   "cell_type": "code",
   "execution_count": 11,
   "metadata": {},
   "outputs": [
    {
     "name": "stdout",
     "output_type": "stream",
     "text": [
      "\u001b[32mSaved Visualization to: table.qzv\u001b[0m\n",
      "\u001b[32mSaved Visualization to: rep-seqs.qzv\u001b[0m\n",
      "\u001b[32mSaved Visualization to: denoising-stats.qzv\u001b[0m\n"
     ]
    }
   ],
   "source": [
    "qiime feature-table summarize \\\n",
    "  --i-table table.qza \\\n",
    "  --o-visualization table.qzv \\\n",
    "  --m-sample-metadata-file sample-metadata.tsv\n",
    "\n",
    "qiime feature-table tabulate-seqs \\\n",
    "  --i-data rep-seqs.qza \\\n",
    "  --o-visualization rep-seqs.qzv\n",
    "\n",
    "qiime metadata tabulate \\\n",
    "  --m-input-file denoising-stats.qza \\\n",
    "  --o-visualization denoising-stats.qzv"
   ]
  },
  {
   "cell_type": "markdown",
   "metadata": {},
   "source": [
    "Let's view some of the .qzv files on https://view.qiime2.org/ to look at how many sequences remain in each sample."
   ]
  },
  {
   "cell_type": "markdown",
   "metadata": {},
   "source": [
    "## 3. Generate a tree for phylogenetic diversity analyses\n",
    "In addition to counts of features per sample (i.e., the data in the FeatureTable[Frequency] Qiime2 artifact), some biodiversity metrics require a rooted phylogeentic tree relating the features to one another. These phylogenetic diveresity metrics include Faith's Phylogenetic Diversity and weighted and unweighted UniFrac. Phylogenetic trees in Qiime2 are stored as a Phylogeny[Rooted] Qiime2 artifact. We will use the align-to-tree-mafft-fasttree pipeline from the q2-phylogeny plugin. \n",
    "\n",
    "First, the pipeline uses the mafft program to perform a multiple sequence alignment of the sequences in our FeatureData[Sequence] to create a FeatureData[AlignedSequence] QIIME 2 artifact. Next, the pipeline masks (or filters) the alignment to remove positions that are highly variable. These positions are generally considered to add noise to a resulting phylogenetic tree. Following that, the pipeline applies FastTree to generate a phylogenetic tree from the masked alignment. The FastTree program creates an unrooted tree, so in the final step in this section midpoint rooting is applied to place the root of the tree at the midpoint of the longest tip-to-tip distance in the unrooted tree."
   ]
  },
  {
   "cell_type": "code",
   "execution_count": 12,
   "metadata": {},
   "outputs": [
    {
     "name": "stdout",
     "output_type": "stream",
     "text": [
      "\u001b[32mSaved FeatureData[AlignedSequence] to: aligned-rep-seqs.qza\u001b[0m\n",
      "\u001b[32mSaved FeatureData[AlignedSequence] to: masked-aligned-rep-seqs.qza\u001b[0m\n",
      "\u001b[32mSaved Phylogeny[Unrooted] to: unrooted-tree.qza\u001b[0m\n",
      "\u001b[32mSaved Phylogeny[Rooted] to: rooted-tree.qza\u001b[0m\n"
     ]
    }
   ],
   "source": [
    "qiime phylogeny align-to-tree-mafft-fasttree \\\n",
    "  --i-sequences rep-seqs.qza \\\n",
    "  --o-alignment aligned-rep-seqs.qza \\\n",
    "  --o-masked-alignment masked-aligned-rep-seqs.qza \\\n",
    "  --o-tree unrooted-tree.qza \\\n",
    "  --o-rooted-tree rooted-tree.qza"
   ]
  },
  {
   "cell_type": "markdown",
   "metadata": {},
   "source": [
    "## 4. Alpha and beta diversity analysis\n",
    "QIIME2 offers diversity analyses through the q2-diversity plugin, which supports computing alpha and beta diversity metrics, applying related statistical tests, and generating interactive visualizations. We will first use the core-metrics-phylogenetic method, which rarefies a FeatureTable[Frequency] to a user-specified depth,  computes several alpha and beta diversity metrics, and generates principle coordinates analysis (PCoA) plots using Emperor for each of the beta diversity metrics. The metrics computed by default are:\n",
    "\n",
    "Alpha diversity\n",
    "\n",
    "   - Shannon’s diversity index (a quantitative measure of community richness)\n",
    "   - Observed Features (a qualitative measure of community richness)\n",
    "   - Faith’s Phylogenetic Diversity (a qualitiative measure of community richness that incorporates phylogenetic relationships between the features)\n",
    "   - Evenness (or Pielou’s Evenness; a measure of community evenness)\n",
    "\n",
    "Beta diversity\n",
    "\n",
    "   - Jaccard distance (a qualitative measure of community dissimilarity)\n",
    "   - Bray-Curtis distance (a quantitative measure of community dissimilarity)\n",
    "   - unweighted UniFrac distance (a qualitative measure of community dissimilarity that incorporates phylogenetic relationships between the features)\n",
    "   - weighted UniFrac distance (a quantitative measure of community dissimilarity that incorporates phylogenetic relationships between the features)\n",
    "\n",
    "An important parameter that needs to be provided to this script is --p-sampling-depth, which is the even sampling (i.e. rarefaction) depth. Because most diversity metrics are sensitive to different sampling depths across different samples, this script will randomly subsample the counts from each sample to the value provided for this parameter. For example, if you provide --p-sampling-depth 500, this step will subsample the counts in each sample without replacement so that each sample in the resulting table has a total count of 500. If the total count for any sample(s) are smaller than this value, those samples will be dropped from the diversity analysis. Choosing this value is tricky. We recommend making your choice by reviewing the information presented in the table.qzv file that was created above. Choose a value that is as high as possible (so you retain more sequences per sample) while excluding as few samples as possible.\n",
    "\n",
    "Looking at the table.qzv Qiime2 artifact we just generated, in particular the 'Interative Sample Detail' tab in that visualization, what value would you choose to pass for --p-sampling-depth? How many samples will be excluded from your analysis based on this choice? How many total sequences will you be analyzing in the core-metrics-phylogenetic command?\n",
    "\n",
    "We are also going to filter out a site that had missing metadata measurements for convenience of downstream beta diversity analyses. We will then use `table-filtered.qza` for the remaining analyses."
   ]
  },
  {
   "cell_type": "code",
   "execution_count": 13,
   "metadata": {},
   "outputs": [
    {
     "name": "stdout",
     "output_type": "stream",
     "text": [
      "\u001b[32mSaved FeatureTable[Frequency] to: table-filtered.qza\u001b[0m\n",
      "Usage: \u001b[34mqiime diversity core-metrics-phylogenetic\u001b[0m [OPTIONS]\n",
      "\n",
      "  Applies a collection of diversity metrics (both phylogenetic and non-\n",
      "  phylogenetic) to a feature table.\n",
      "\n",
      "\u001b[1mInputs\u001b[0m:\n",
      "  \u001b[34m\u001b[4m--i-table\u001b[0m ARTIFACT \u001b[32mFeatureTable[Frequency]\u001b[0m\n",
      "                          The feature table containing the samples over which\n",
      "                          diversity metrics should be computed.     \u001b[35m[required]\u001b[0m\n",
      "  \u001b[34m\u001b[4m--i-phylogeny\u001b[0m ARTIFACT  Phylogenetic tree containing tip identifiers that\n",
      "    \u001b[32mPhylogeny[Rooted]\u001b[0m     correspond to the feature identifiers in the table.\n",
      "                          This tree can contain tip ids that are not present\n",
      "                          in the table, but all feature ids in the table must\n",
      "                          be present in this tree.                  \u001b[35m[required]\u001b[0m\n",
      "\u001b[1mParameters\u001b[0m:\n",
      "  \u001b[34m\u001b[4m--p-sampling-depth\u001b[0m INTEGER\n",
      "    \u001b[32mRange(1, None)\u001b[0m        The total frequency that each sample should be\n",
      "                          rarefied to prior to computing diversity metrics.\n",
      "                                                                    \u001b[35m[required]\u001b[0m\n",
      "  \u001b[34m\u001b[4m--m-metadata-file\u001b[0m METADATA...\n",
      "    (multiple arguments   The sample metadata to use in the emperor plots.\n",
      "     will be merged)                                                \u001b[35m[required]\u001b[0m\n",
      "  \u001b[34m--p-n-jobs-or-threads\u001b[0m VALUE \u001b[32mInt % Range(1, None) | Str % Choices('auto')\u001b[0m\n",
      "                          [beta/beta-phylogenetic methods only] - The number\n",
      "                          of concurrent jobs or CPU threads to use in\n",
      "                          performing this calculation. Individual methods will\n",
      "                          create jobs/threads as implemented in\n",
      "                          q2-diversity-lib dependencies. May not exceed the\n",
      "                          number of available physical cores. If\n",
      "                          \u001b[4mn-jobs-or-threads\u001b[0m = 'auto', one thread/job will be\n",
      "                          created for each identified CPU core on the host.\n",
      "                                                                  \u001b[35m[default: 1]\u001b[0m\n",
      "\u001b[1mOutputs\u001b[0m:\n",
      "  \u001b[34m\u001b[4m--o-rarefied-table\u001b[0m ARTIFACT \u001b[32mFeatureTable[Frequency]\u001b[0m\n",
      "                          The resulting rarefied feature table.     \u001b[35m[required]\u001b[0m\n",
      "  \u001b[34m\u001b[4m--o-faith-pd-vector\u001b[0m ARTIFACT \u001b[32mSampleData[AlphaDiversity]\u001b[0m\n",
      "                          Vector of Faith PD values by sample.      \u001b[35m[required]\u001b[0m\n",
      "  \u001b[34m\u001b[4m--o-observed-features-vector\u001b[0m ARTIFACT \u001b[32mSampleData[AlphaDiversity]\u001b[0m\n",
      "                          Vector of Observed Features values by sample.\n",
      "                                                                    \u001b[35m[required]\u001b[0m\n",
      "  \u001b[34m\u001b[4m--o-shannon-vector\u001b[0m ARTIFACT \u001b[32mSampleData[AlphaDiversity]\u001b[0m\n",
      "                          Vector of Shannon diversity values by sample.\n",
      "                                                                    \u001b[35m[required]\u001b[0m\n",
      "  \u001b[34m\u001b[4m--o-evenness-vector\u001b[0m ARTIFACT \u001b[32mSampleData[AlphaDiversity]\u001b[0m\n",
      "                          Vector of Pielou's evenness values by sample.\n",
      "                                                                    \u001b[35m[required]\u001b[0m\n",
      "  \u001b[34m\u001b[4m--o-unweighted-unifrac-distance-matrix\u001b[0m ARTIFACT\n",
      "    \u001b[32mDistanceMatrix\u001b[0m        Matrix of unweighted UniFrac distances between\n",
      "                          pairs of samples.                         \u001b[35m[required]\u001b[0m\n",
      "  \u001b[34m\u001b[4m--o-weighted-unifrac-distance-matrix\u001b[0m ARTIFACT\n",
      "    \u001b[32mDistanceMatrix\u001b[0m        Matrix of weighted UniFrac distances between pairs\n",
      "                          of samples.                               \u001b[35m[required]\u001b[0m\n",
      "  \u001b[34m\u001b[4m--o-jaccard-distance-matrix\u001b[0m ARTIFACT\n",
      "    \u001b[32mDistanceMatrix\u001b[0m        Matrix of Jaccard distances between pairs of\n",
      "                          samples.                                  \u001b[35m[required]\u001b[0m\n",
      "  \u001b[34m\u001b[4m--o-bray-curtis-distance-matrix\u001b[0m ARTIFACT\n",
      "    \u001b[32mDistanceMatrix\u001b[0m        Matrix of Bray-Curtis distances between pairs of\n",
      "                          samples.                                  \u001b[35m[required]\u001b[0m\n",
      "  \u001b[34m\u001b[4m--o-unweighted-unifrac-pcoa-results\u001b[0m ARTIFACT\n",
      "    \u001b[32mPCoAResults\u001b[0m           PCoA matrix computed from unweighted UniFrac\n",
      "                          distances between samples.                \u001b[35m[required]\u001b[0m\n",
      "  \u001b[34m\u001b[4m--o-weighted-unifrac-pcoa-results\u001b[0m ARTIFACT\n",
      "    \u001b[32mPCoAResults\u001b[0m           PCoA matrix computed from weighted UniFrac\n",
      "                          distances between samples.                \u001b[35m[required]\u001b[0m\n",
      "  \u001b[34m\u001b[4m--o-jaccard-pcoa-results\u001b[0m ARTIFACT\n",
      "    \u001b[32mPCoAResults\u001b[0m           PCoA matrix computed from Jaccard distances between\n",
      "                          samples.                                  \u001b[35m[required]\u001b[0m\n",
      "  \u001b[34m\u001b[4m--o-bray-curtis-pcoa-results\u001b[0m ARTIFACT\n",
      "    \u001b[32mPCoAResults\u001b[0m           PCoA matrix computed from Bray-Curtis distances\n",
      "                          between samples.                          \u001b[35m[required]\u001b[0m\n",
      "  \u001b[34m\u001b[4m--o-unweighted-unifrac-emperor\u001b[0m VISUALIZATION\n",
      "                          Emperor plot of the PCoA matrix computed from\n",
      "                          unweighted UniFrac.                       \u001b[35m[required]\u001b[0m\n",
      "  \u001b[34m\u001b[4m--o-weighted-unifrac-emperor\u001b[0m VISUALIZATION\n",
      "                          Emperor plot of the PCoA matrix computed from\n",
      "                          weighted UniFrac.                         \u001b[35m[required]\u001b[0m\n",
      "  \u001b[34m\u001b[4m--o-jaccard-emperor\u001b[0m VISUALIZATION\n",
      "                          Emperor plot of the PCoA matrix computed from\n",
      "                          Jaccard.                                  \u001b[35m[required]\u001b[0m\n",
      "  \u001b[34m\u001b[4m--o-bray-curtis-emperor\u001b[0m VISUALIZATION\n",
      "                          Emperor plot of the PCoA matrix computed from\n",
      "                          Bray-Curtis.                              \u001b[35m[required]\u001b[0m\n",
      "\u001b[1mMiscellaneous\u001b[0m:\n",
      "  \u001b[34m--output-dir\u001b[0m PATH       Output unspecified results to a directory\n",
      "  \u001b[34m--verbose\u001b[0m / \u001b[34m--quiet\u001b[0m     Display verbose output to stdout and/or stderr\n",
      "                          during execution of this action. Or silence output\n",
      "                          if execution is successful (silence is golden).\n",
      "  \u001b[34m--examples\u001b[0m              Show usage examples and exit.\n",
      "  \u001b[34m--citations\u001b[0m             Show citations and exit.\n",
      "  \u001b[34m--help\u001b[0m                  Show this message and exit.\n",
      "\n",
      "\u001b[33m                  There were some problems with the command:                  \u001b[0m\n",
      "\u001b[31m\u001b[1m (1/18) Invalid value for '--output-dir': 'core-metrics-results' already\n",
      "  exists, will not overwrite.\u001b[0m\n",
      "\u001b[31m\u001b[1m (2/18) Missing option '--o-rarefied-table'.  (\"--output-dir\" may also be\n",
      "  used)\u001b[0m\n",
      "\u001b[31m\u001b[1m (3/18) Missing option '--o-faith-pd-vector'.  (\"--output-dir\" may also be\n",
      "  used)\u001b[0m\n",
      "\u001b[31m\u001b[1m (4/18) Missing option '--o-observed-features-vector'.  (\"--output-dir\" may\n",
      "  also be used)\u001b[0m\n",
      "\u001b[31m\u001b[1m (5/18) Missing option '--o-shannon-vector'.  (\"--output-dir\" may also be\n",
      "  used)\u001b[0m\n",
      "\u001b[31m\u001b[1m (6/18) Missing option '--o-evenness-vector'.  (\"--output-dir\" may also be\n",
      "  used)\u001b[0m\n",
      "\u001b[31m\u001b[1m (7/18) Missing option '--o-unweighted-unifrac-distance-matrix'.  (\"--output-\n",
      "  dir\" may also be used)\u001b[0m\n",
      "\u001b[31m\u001b[1m (8/18) Missing option '--o-weighted-unifrac-distance-matrix'.  (\"--output-\n",
      "  dir\" may also be used)\u001b[0m\n",
      "\u001b[31m\u001b[1m (9/18) Missing option '--o-jaccard-distance-matrix'.  (\"--output-dir\" may\n",
      "  also be used)\u001b[0m\n",
      "\u001b[31m\u001b[1m (10/18) Missing option '--o-bray-curtis-distance-matrix'.  (\"--output-dir\"\n",
      "  may also be used)\u001b[0m\n",
      "\u001b[31m\u001b[1m (11/18) Missing option '--o-unweighted-unifrac-pcoa-results'.  (\"--output-\n",
      "  dir\" may also be used)\u001b[0m\n",
      "\u001b[31m\u001b[1m (12/18) Missing option '--o-weighted-unifrac-pcoa-results'.  (\"--output-dir\"\n",
      "  may also be used)\u001b[0m\n",
      "\u001b[31m\u001b[1m (13/18) Missing option '--o-jaccard-pcoa-results'.  (\"--output-dir\" may also\n",
      "  be used)\u001b[0m\n",
      "\u001b[31m\u001b[1m (14/18) Missing option '--o-bray-curtis-pcoa-results'.  (\"--output-dir\" may\n",
      "  also be used)\u001b[0m\n",
      "\u001b[31m\u001b[1m (15/18) Missing option '--o-unweighted-unifrac-emperor'.  (\"--output-dir\" may\n",
      "  also be used)\u001b[0m\n",
      "\u001b[31m\u001b[1m (16/18) Missing option '--o-weighted-unifrac-emperor'.  (\"--output-dir\" may\n",
      "  also be used)\u001b[0m\n",
      "\u001b[31m\u001b[1m (17/18) Missing option '--o-jaccard-emperor'.  (\"--output-dir\" may also be\n",
      "  used)\u001b[0m\n",
      "\u001b[31m\u001b[1m (18/18) Missing option '--o-bray-curtis-emperor'.  (\"--output-dir\" may also\n",
      "  be used)\u001b[0m\n"
     ]
    },
    {
     "ename": "",
     "evalue": "1",
     "output_type": "error",
     "traceback": []
    }
   ],
   "source": [
    "qiime feature-table filter-samples \\\n",
    "  --i-table table.qza \\\n",
    "  --m-metadata-file sample-metadata.tsv \\\n",
    "  --p-where \"'site-name' = 'BAQ4697'\" \\\n",
    "  --p-exclude-ids True \\\n",
    "  --o-filtered-table table-filtered.qza\n",
    "\n",
    "qiime diversity core-metrics-phylogenetic \\\n",
    "  --i-phylogeny rooted-tree.qza \\\n",
    "  --i-table table-filtered.qza \\\n",
    "  --p-sampling-depth 500 \\\n",
    "  --m-metadata-file sample-metadata.tsv \\\n",
    "  --output-dir core-metrics-results"
   ]
  },
  {
   "cell_type": "markdown",
   "metadata": {},
   "source": [
    "We set the `--p-sampling-depth` parameter to 500. This value was chosen based on the `table.qzv` output: it allowed for most of the samples to be retained while also dropping samples that had a low number of sequences. Losing a disproportionate number of samples from one metadata category is not ideal. You want to strike a balance between total seqeuences analyzed and number of samples retained. \n",
    "\n",
    "On an Illumina run, it is common to see a few samples with very low sequence counts. These should typically be removed from analyses by setting a larger value for the sampling depth at this stage.\n",
    "\n",
    "After computing diversity metrics, we can begin to explore the microbiome community composition of samples in the context of sample metadata. This information is present in the sample metadata file that was downloaded earlier.\n",
    "\n",
    "We'll first test for association between categorical metadata columns and alpha diversity data. We'll do that here for the Faith Phylogenetic Diversity (a measure of community richness) and evenness metrics. "
   ]
  },
  {
   "cell_type": "code",
   "execution_count": null,
   "metadata": {},
   "outputs": [],
   "source": [
    "qiime diversity alpha-group-significance \\\n",
    "  --i-alpha-diversity core-metrics-results/faith_pd_vector.qza \\\n",
    "  --m-metadata-file sample-metadata.tsv \\\n",
    "  --o-visualization core-metrics-results/faith-pd-group-significance.qzv\n",
    "\n",
    "qiime diversity alpha-group-significance \\\n",
    "  --i-alpha-diversity core-metrics-results/evenness_vector.qza \\\n",
    "  --m-metadata-file sample-metadata.tsv \\\n",
    "  --o-visualization core-metrics-results/evenness-group-significance.qzv"
   ]
  },
  {
   "cell_type": "markdown",
   "metadata": {},
   "source": [
    " Next, we will analyze the sample composition in the contet of categorical metadata using PERMANOVA (Anderson, 2001) using the `beta-group-significance` command. The commands will test whether distances between samples within a group are more similar to each other than they are to samples from the other groups. PERMANOVA can also perform pairwise tests that allow you to determine which specific pairs of groups differ from one another. We will do this here with `--p-pairwise`. This command can be slow to run since it's based on permutation test. We will run `beta-group-significance` on specific metadata columns to reduce computation time. Here, will apply this to our unweighted UniFrac distances, using two sample metadata columns, as follows:"
   ]
  },
  {
   "cell_type": "code",
   "execution_count": null,
   "metadata": {},
   "outputs": [],
   "source": [
    "qiime diversity beta-group-significance \\\n",
    "  --i-distance-matrix core-metrics-results/unweighted_unifrac_distance_matrix.qza \\\n",
    "  --m-metadata-file sample-metadata.tsv \\\n",
    "  --m-metadata-column vegetation \\\n",
    "  --o-visualization core-metrics-results/unweighted-unifrac-vegetation-significance.qzv \\\n",
    "  --p-pairwise"
   ]
  },
  {
   "cell_type": "markdown",
   "metadata": {},
   "source": [
    "In our dataset, the continuous sample metadata we have for this data set are correlated with vegetation, so we can test for additional associations. We are going to run a further test using the `qiime diversity bioenv` commands. "
   ]
  },
  {
   "cell_type": "code",
   "execution_count": null,
   "metadata": {},
   "outputs": [],
   "source": [
    "qiime diversity bioenv \\\n",
    "    --i-distance-matrix core-metrics-results/unweighted_unifrac_distance_matrix.qza \\\n",
    "    --m-metadata-file sample-metadata.tsv \\\n",
    "    --o-visualization core-metrics-results/unweighted-unifrac-bioenv.qzv \\"
   ]
  },
  {
   "attachments": {},
   "cell_type": "markdown",
   "metadata": {},
   "source": [
    "Finally, ordination is a popular approach for exploring microbiome community composition in the context of sample metadata. We can use the Emperor tool to explore principal coordinates (PCoA) plots in the context of sample metadata. While our `core-metrics-phylogenetic` command did already generate some Emperor plots, we want to pass an optional parameter, `--p-custom-axes`, which is very useful for exploring our data. The PCoA results that were used in `core-metrics-phylogeny` are also available, making it easy to generate new visualizations with Emperor. We will generate Emperor plots for unweighted UniFrac and Bray-Curtis so that the resulting plot will contain axes for principal coordinate 1, principal coordinate 2, and vegetation start. We will use that last axis to explore how these samples changed across sites based on the environmental variable \"average-soil-temperature\". "
   ]
  },
  {
   "cell_type": "code",
   "execution_count": null,
   "metadata": {},
   "outputs": [],
   "source": [
    "qiime emperor plot \\\n",
    "  --i-pcoa core-metrics-results/unweighted_unifrac_pcoa_results.qza \\\n",
    "  --m-metadata-file sample-metadata.tsv \\\n",
    "  --p-custom-axes average-soil-temperature \\\n",
    "  --o-visualization core-metrics-results/unweighted-unifrac-emperor-depth.qzv\n",
    "\n",
    "qiime emperor plot \\\n",
    "  --i-pcoa core-metrics-results/bray_curtis_pcoa_results.qza \\\n",
    "  --m-metadata-file sample-metadata.tsv \\\n",
    "  --p-custom-axes average-soil-temperature \\\n",
    "  --o-visualization core-metrics-results/bray-curtis-emperor-depth.qzv"
   ]
  },
  {
   "cell_type": "code",
   "execution_count": null,
   "metadata": {},
   "outputs": [],
   "source": []
  }
 ],
 "metadata": {
  "kernelspec": {
   "display_name": "Bash",
   "language": "bash",
   "name": "bash"
  },
  "language_info": {
   "codemirror_mode": "shell",
   "file_extension": ".sh",
   "mimetype": "text/x-sh",
   "name": "bash"
  }
 },
 "nbformat": 4,
 "nbformat_minor": 4
}
