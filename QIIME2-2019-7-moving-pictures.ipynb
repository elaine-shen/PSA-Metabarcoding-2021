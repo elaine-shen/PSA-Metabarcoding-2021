{
 "cells": [
  {
   "cell_type": "markdown",
   "metadata": {},
   "source": [
    "# QIIME2 2019.7 MOVING PICTURES TUTORIAL\n",
    "\n",
    "This notebook contains data and analyses from the moving pictures tutorial (https://docs.qiime2.org/2019.7/tutorials/moving-pictures/)\n",
    "\n",
    "It also demonstrates how to use the QIIME2 jupyter in-line visualization feature\n",
    "\n"
   ]
  },
  {
   "cell_type": "code",
   "execution_count": 1,
   "metadata": {},
   "outputs": [
    {
     "ename": "ModuleNotFoundError",
     "evalue": "No module named 'qiime2'",
     "output_type": "error",
     "traceback": [
      "\u001b[0;31m---------------------------------------------------------------------------\u001b[0m",
      "\u001b[0;31mModuleNotFoundError\u001b[0m                       Traceback (most recent call last)",
      "\u001b[0;32m<ipython-input-1-4f3f9a8dc02d>\u001b[0m in \u001b[0;36m<module>\u001b[0;34m\u001b[0m\n\u001b[1;32m      1\u001b[0m \u001b[0;31m#import the qiime2 python module to allow for inline visualizations\u001b[0m\u001b[0;34m\u001b[0m\u001b[0;34m\u001b[0m\u001b[0;34m\u001b[0m\u001b[0m\n\u001b[1;32m      2\u001b[0m \u001b[0;34m\u001b[0m\u001b[0m\n\u001b[0;32m----> 3\u001b[0;31m \u001b[0;32mimport\u001b[0m \u001b[0mqiime2\u001b[0m \u001b[0;32mas\u001b[0m \u001b[0mq2\u001b[0m\u001b[0;34m\u001b[0m\u001b[0;34m\u001b[0m\u001b[0m\n\u001b[0m",
      "\u001b[0;31mModuleNotFoundError\u001b[0m: No module named 'qiime2'"
     ]
    }
   ],
   "source": [
    "#import the qiime2 python module to allow for inline visualizations\n",
    "\n",
    "import qiime2 as q2"
   ]
  },
  {
   "cell_type": "code",
   "execution_count": null,
   "metadata": {
    "jupyter": {
     "outputs_hidden": true
    }
   },
   "outputs": [],
   "source": [
    "#which version of qiime2 and python are we using?\n",
    "\n",
    "!qiime info"
   ]
  },
  {
   "cell_type": "markdown",
   "metadata": {},
   "source": [
    "## A note about using Linux commands in Jupyter Notebooks\n",
    "\n",
    "Since we are running this notebook with Python, it won't automatically recognize linux commands (ls, cd, mkdir, etc) or any commands from software based on linux (like qiime2 commands).\n",
    "\n",
    "A way to get around this is to use \"jupyter magic commands\". The only one we'll use today is to put an exclamation mark (!) before all of our linux or qiime2 commands (aside from the python module, which we have imported as q2). This command tells jupyter that the command following it will be something other than Python."
   ]
  },
  {
   "cell_type": "markdown",
   "metadata": {},
   "source": [
    "# Obtaining and importing data"
   ]
  },
  {
   "cell_type": "code",
   "execution_count": null,
   "metadata": {
    "jupyter": {
     "outputs_hidden": true
    }
   },
   "outputs": [],
   "source": [
    "#Make a directory for the tutorial data and download from the qiime2 website\n",
    "\n",
    "!mkdir emp-single-end-sequences\n",
    "\n",
    "!wget \\\n",
    "    -O \"sample-metadata.tsv\" \\\n",
    "    \"https://data.qiime2.org/2019.7/tutorials/moving-pictures/sample_metadata.tsv\"\n",
    "\n",
    "!wget \\\n",
    "    -O \"emp-single-end-sequences/sequences.fastq.gz\" \\\n",
    "    \"https://data.qiime2.org/2019.7/tutorials/moving-pictures/emp-single-end-sequences/sequences.fastq.gz\"\n",
    "\n",
    "!wget \\\n",
    "    -O \"emp-single-end-sequences/barcodes.fastq.gz\" \\\n",
    "    \"https://data.qiime2.org/2019.7/tutorials/moving-pictures/emp-single-end-sequences/barcodes.fastq.gz\""
   ]
  },
  {
   "cell_type": "code",
   "execution_count": null,
   "metadata": {},
   "outputs": [],
   "source": [
    "#Import the fastq files into a QIIME2 artifact \n",
    "\n",
    "!qiime tools import \\\n",
    "  --type EMPSingleEndSequences \\\n",
    "  --input-path emp-single-end-sequences \\\n",
    "  --output-path emp-single-end-sequences.qza"
   ]
  },
  {
   "cell_type": "markdown",
   "metadata": {},
   "source": [
    "## A note about fastq files\n",
    "\n",
    "There are a few different format of fastq files your sequencer may return to you. The type of fastq you import into qiime in the above step is delimited using the \"--type\" flag. More information about the type of fastq's and which argument to use can be found here: https://docs.qiime2.org/2019.7/tutorials/importing/\n",
    "\n",
    "\n",
    "## A note about QIIME2 file types\n",
    "\n",
    "QIIME2 uses two file types: .qza (QIIME2 artifact) and .qzv (QIIME2 visualization). Any .qzv file can be visualized using qiime2 view (https://view.qiime2.org/) or using the jupyter in-line api (this is the method we'll be using in this notebook)."
   ]
  },
  {
   "cell_type": "markdown",
   "metadata": {},
   "source": [
    "# Demultiplexing sequences"
   ]
  },
  {
   "cell_type": "code",
   "execution_count": null,
   "metadata": {},
   "outputs": [],
   "source": [
    "# Demutliplex your sequences\n",
    "\n",
    "!qiime demux emp-single \\\n",
    "  --i-seqs emp-single-end-sequences.qza \\\n",
    "  --m-barcodes-file sample-metadata.tsv \\\n",
    "  --m-barcodes-column barcode-sequence \\\n",
    "  --o-per-sample-sequences demux.qza \\\n",
    "  --output-dir demux"
   ]
  },
  {
   "cell_type": "code",
   "execution_count": null,
   "metadata": {},
   "outputs": [],
   "source": [
    "## change your .qza file into a .qzv file so you can view your QC stats on your demutliplexing \n",
    "\n",
    "!qiime demux summarize \\\n",
    "  --i-data demux.qza \\\n",
    "  --o-visualization demux.qzv"
   ]
  },
  {
   "cell_type": "code",
   "execution_count": null,
   "metadata": {
    "jupyter": {
     "outputs_hidden": true
    }
   },
   "outputs": [],
   "source": [
    "## Use the q2 module to view your .qzv file\n",
    "\n",
    "q2.Visualization.load('demux.qzv')"
   ]
  },
  {
   "cell_type": "markdown",
   "metadata": {},
   "source": [
    "## Use the information above to determine your truncuation position and your trim length for the next step \n",
    "\n",
    "#### From the tutorial website: \"In the demux.qzv quality plots, we see that the quality of the initial bases seems to be high, so we won’t trim any bases from the beginning of the sequences. The quality seems to drop off around position 120, so we’ll truncate our sequences at 120 bases. This next command may take up to 10 minutes to run, and is the slowest step in this tutorial.\"\n",
    "\n",
    "\n",
    "\n",
    "(see https://docs.qiime2.org/2019.7/tutorials/moving-pictures/ for more details)"
   ]
  },
  {
   "cell_type": "markdown",
   "metadata": {},
   "source": [
    "# Sequence quality control and feature table construction¶\n"
   ]
  },
  {
   "cell_type": "code",
   "execution_count": null,
   "metadata": {},
   "outputs": [],
   "source": [
    "#Generate ESVs (Exact Sequence Variants). QIIME2 has two packages available for this. We are using dada2 for our single end reads.\n",
    "# NOTE: if you are wanting to do paired end reads, you'll use qiime dada2 denoise-paired (https://docs.qiime2.org/2019.7/plugins/available/dada2/denoise-paired/)\n",
    "# NOTE: if you are wanting to join reads you'll have to use Deblur\n",
    "\n",
    "\n",
    "!qiime dada2 denoise-single \\\n",
    "  --i-demultiplexed-seqs demux.qza \\\n",
    "  --p-trim-left 0 \\\n",
    "  --p-trunc-len 120 \\\n",
    "  --o-representative-sequences rep-seqs-dada2.qza \\\n",
    "  --o-table table-dada2.qza \\\n",
    "  --o-denoising-stats stats-dada2.qza"
   ]
  },
  {
   "cell_type": "code",
   "execution_count": null,
   "metadata": {
    "jupyter": {
     "outputs_hidden": true
    }
   },
   "outputs": [],
   "source": [
    "# change the .qza denoising stats file to a .qzv file\n",
    "\n",
    "!qiime metadata tabulate \\\n",
    "  --m-input-file stats-dada2.qza \\\n",
    "  --o-visualization stats-dada2.qzv\n",
    "\n",
    "#view the output\n",
    "q2.Visualization.load('stats-dada2.qzv')"
   ]
  },
  {
   "cell_type": "code",
   "execution_count": null,
   "metadata": {},
   "outputs": [],
   "source": [
    "#Change the name of some of the files to make downstream commands easier\n",
    "\n",
    "!mv rep-seqs-dada2.qza rep-seqs.qza &&  mv table-dada2.qza table.qza"
   ]
  },
  {
   "cell_type": "code",
   "execution_count": null,
   "metadata": {
    "jupyter": {
     "outputs_hidden": true
    }
   },
   "outputs": [],
   "source": [
    "# The feature-table summarize command will give you information on how many sequences are associated with each sample and with each feature, histograms of those distributions, and some related summary statistics. \n",
    "!qiime feature-table summarize \\\n",
    "  --i-table table.qza \\\n",
    "  --o-visualization table.qzv \\\n",
    "  --m-sample-metadata-file sample-metadata.tsv\n",
    "\n",
    "#View the .qzv\n",
    "q2.Visualization.load('table.qzv')"
   ]
  },
  {
   "cell_type": "code",
   "execution_count": null,
   "metadata": {
    "jupyter": {
     "outputs_hidden": true
    }
   },
   "outputs": [],
   "source": [
    "#  The feature-table tabulate-seqs command will provide a mapping of feature IDs to sequences, and provide links to easily BLAST each sequence against the NCBI nt database.\n",
    "\n",
    "!qiime feature-table tabulate-seqs \\\n",
    "  --i-data rep-seqs.qza \\\n",
    "  --o-visualization rep-seqs.qzv\n",
    "\n",
    "q2.Visualization.load('rep-seqs.qzv')"
   ]
  },
  {
   "cell_type": "markdown",
   "metadata": {},
   "source": [
    "# Diversity analyses"
   ]
  },
  {
   "cell_type": "code",
   "execution_count": null,
   "metadata": {},
   "outputs": [],
   "source": [
    "# Generate a phylogenetic tree to complete alpha and beta diversity analyses\n",
    "\n",
    "!qiime phylogeny align-to-tree-mafft-fasttree \\\n",
    "  --i-sequences rep-seqs.qza \\\n",
    "  --o-alignment aligned-rep-seqs.qza \\\n",
    "  --o-masked-alignment masked-aligned-rep-seqs.qza \\\n",
    "  --o-tree unrooted-tree.qza \\\n",
    "  --o-rooted-tree rooted-tree.qza"
   ]
  },
  {
   "cell_type": "code",
   "execution_count": null,
   "metadata": {},
   "outputs": [],
   "source": [
    "# the core-metrics-phylogenetic method, which rarefies a FeatureTable[Frequency] to a user-specified depth, computes several alpha and beta diversity metrics, and generates principle coordinates analysis (PCoA) plots using Emperor for each of the beta diversity metrics\n",
    "# Sampling depth can be determined using output table.qzv\n",
    "\n",
    "\n",
    "!qiime diversity core-metrics-phylogenetic \\\n",
    "  --i-phylogeny rooted-tree.qza \\\n",
    "  --i-table table.qza \\\n",
    "  --p-sampling-depth 1109 \\\n",
    "  --m-metadata-file sample-metadata.tsv \\\n",
    "  --output-dir core-metrics-results"
   ]
  },
  {
   "cell_type": "code",
   "execution_count": null,
   "metadata": {
    "jupyter": {
     "outputs_hidden": true
    }
   },
   "outputs": [],
   "source": [
    "#View unweighted unifrac beta diversity on a PCoA emperor plot\n",
    "\n",
    "q2.Visualization.load('core-metrics-results/weighted_unifrac_emperor.qzv')"
   ]
  },
  {
   "cell_type": "code",
   "execution_count": null,
   "metadata": {
    "jupyter": {
     "outputs_hidden": true
    }
   },
   "outputs": [],
   "source": [
    "#Using group significance can show you how different factors in your metadata affect your diversity\n",
    "\n",
    "!qiime diversity alpha-group-significance \\\n",
    "  --i-alpha-diversity core-metrics-results/faith_pd_vector.qza \\\n",
    "  --m-metadata-file sample-metadata.tsv \\\n",
    "  --o-visualization core-metrics-results/faith-pd-group-significance.qzv\n",
    "\n",
    "q2.Visualization.load('core-metrics-results/faith-pd-group-significance.qzv')"
   ]
  },
  {
   "cell_type": "code",
   "execution_count": null,
   "metadata": {
    "jupyter": {
     "outputs_hidden": true
    }
   },
   "outputs": [],
   "source": [
    "!qiime diversity alpha-group-significance \\\n",
    "  --i-alpha-diversity core-metrics-results/evenness_vector.qza \\\n",
    "  --m-metadata-file sample-metadata.tsv \\\n",
    "  --o-visualization core-metrics-results/evenness-group-significance.qzv\n",
    "\n",
    "q2.Visualization.load('core-metrics-results/evenness-group-significance.qzv')"
   ]
  },
  {
   "cell_type": "code",
   "execution_count": null,
   "metadata": {
    "jupyter": {
     "outputs_hidden": true
    }
   },
   "outputs": [],
   "source": [
    "!qiime diversity beta-group-significance \\\n",
    "  --i-distance-matrix core-metrics-results/unweighted_unifrac_distance_matrix.qza \\\n",
    "  --m-metadata-file sample-metadata.tsv \\\n",
    "  --m-metadata-column body-site \\\n",
    "  --o-visualization core-metrics-results/unweighted-unifrac-body-site-significance.qzv \\\n",
    "  --p-pairwise\n",
    "\n",
    "q2.Visualization.load('core-metrics-results/unweighted-unifrac-body-site-significance.qzv')"
   ]
  },
  {
   "cell_type": "code",
   "execution_count": null,
   "metadata": {
    "jupyter": {
     "outputs_hidden": true
    }
   },
   "outputs": [],
   "source": [
    "!qiime diversity beta-group-significance \\\n",
    "  --i-distance-matrix core-metrics-results/unweighted_unifrac_distance_matrix.qza \\\n",
    "  --m-metadata-file sample-metadata.tsv \\\n",
    "  --m-metadata-column subject \\\n",
    "  --o-visualization core-metrics-results/unweighted-unifrac-subject-group-significance.qzv \\\n",
    "  --p-pairwise\n",
    "\n",
    "q2.Visualization.load('core-metrics-results/unweighted-unifrac-subject-group-significance.qzv')"
   ]
  },
  {
   "cell_type": "code",
   "execution_count": null,
   "metadata": {
    "jupyter": {
     "outputs_hidden": true
    }
   },
   "outputs": [],
   "source": [
    "# putting cusom axes on your PCoA emperor plot (shown above)\n",
    "\n",
    "!qiime emperor plot \\\n",
    "  --i-pcoa core-metrics-results/unweighted_unifrac_pcoa_results.qza \\\n",
    "  --m-metadata-file sample-metadata.tsv \\\n",
    "  --p-custom-axes days-since-experiment-start \\\n",
    "  --o-visualization core-metrics-results/unweighted-unifrac-emperor-DaysSinceExperimentStart.qzv\n",
    "\n",
    "q2.Visualization.load('core-metrics-results/unweighted-unifrac-emperor-DaysSinceExperimentStart.qzv')"
   ]
  },
  {
   "cell_type": "code",
   "execution_count": null,
   "metadata": {
    "jupyter": {
     "outputs_hidden": true
    }
   },
   "outputs": [],
   "source": [
    "!qiime emperor plot \\\n",
    "  --i-pcoa core-metrics-results/bray_curtis_pcoa_results.qza \\\n",
    "  --m-metadata-file sample-metadata.tsv \\\n",
    "  --p-custom-axes days-since-experiment-start \\\n",
    "  --o-visualization core-metrics-results/bray-curtis-emperor-DaysSinceExperimentStart.qzv\n",
    "\n",
    "q2.Visualization.load('core-metrics-results/bray-curtis-emperor-DaysSinceExperimentStart.qzv')"
   ]
  },
  {
   "cell_type": "code",
   "execution_count": null,
   "metadata": {
    "jupyter": {
     "outputs_hidden": true
    }
   },
   "outputs": [],
   "source": [
    "# Alpha rarefaction\n",
    "# This visualizer computes one or more alpha diversity metrics at multiple sampling depths, in steps between 1 (optionally controlled with --p-min-depth) and the value provided as --p-max-depth\n",
    "\n",
    "!qiime diversity alpha-rarefaction \\\n",
    "  --i-table table.qza \\\n",
    "  --i-phylogeny rooted-tree.qza \\\n",
    "  --p-max-depth 4000 \\\n",
    "  --m-metadata-file sample-metadata.tsv \\\n",
    "  --o-visualization alpha-rarefaction.qzv\n",
    "\n",
    "q2.Visualization.load('alpha-rarefaction.qzv')"
   ]
  },
  {
   "cell_type": "markdown",
   "metadata": {},
   "source": [
    "# Taxonomic Analysis"
   ]
  },
  {
   "cell_type": "code",
   "execution_count": null,
   "metadata": {},
   "outputs": [],
   "source": [
    "#Download machine learning classifier from the QIIME2 website: https://docs.qiime2.org/2019.7/data-resources/\n",
    "#Note: This classifier was built against the greengenes database for 16S V4 sequences, QIIME2 also has one built against the SILVA database\n",
    "\n",
    "!wget \\\n",
    "    -O \"gg-13-8-99-515-806-nb-classifier.qza\" \\\n",
    "    \"https://data.qiime2.org/2019.7/common/gg-13-8-99-515-806-nb-classifier.qza\""
   ]
  },
  {
   "cell_type": "code",
   "execution_count": null,
   "metadata": {},
   "outputs": [],
   "source": [
    "#Use machine learning to identify your representative sequences against an external database\n",
    "#This step may take a few minutes\n",
    "\n",
    "!qiime feature-classifier classify-sklearn \\\n",
    "  --i-classifier gg-13-8-99-515-806-nb-classifier.qza \\\n",
    "  --i-reads rep-seqs.qza \\\n",
    "  --o-classification taxonomy.qza"
   ]
  },
  {
   "cell_type": "code",
   "execution_count": null,
   "metadata": {
    "jupyter": {
     "outputs_hidden": true
    }
   },
   "outputs": [],
   "source": [
    "#View the taxonomic designations\n",
    "\n",
    "!qiime metadata tabulate \\\n",
    "  --m-input-file taxonomy.qza \\\n",
    "  --o-visualization taxonomy.qzv\n",
    "\n",
    "q2.Visualization.load('taxonomy.qzv')"
   ]
  },
  {
   "cell_type": "code",
   "execution_count": null,
   "metadata": {
    "jupyter": {
     "outputs_hidden": true
    }
   },
   "outputs": [],
   "source": [
    "#View the taxonomic composition of each sample in an interactive bar plot\n",
    "\n",
    "!qiime taxa barplot \\\n",
    "  --i-table table.qza \\\n",
    "  --i-taxonomy taxonomy.qza \\\n",
    "  --m-metadata-file sample-metadata.tsv \\\n",
    "  --o-visualization taxa-bar-plots.qzv\n",
    "\n",
    "q2.Visualization.load('taxa-bar-plots.qzv')"
   ]
  },
  {
   "cell_type": "markdown",
   "metadata": {},
   "source": [
    "# Differential abundance testing with ANCOM"
   ]
  },
  {
   "cell_type": "code",
   "execution_count": null,
   "metadata": {},
   "outputs": [],
   "source": [
    "# Filter your feature table to contain only gut samples\n",
    "# Filtering Data tutorial: https://docs.qiime2.org/2019.7/tutorials/filtering/\n",
    "\n",
    "!qiime feature-table filter-samples \\\n",
    "  --i-table table.qza \\\n",
    "  --m-metadata-file sample-metadata.tsv \\\n",
    "  --p-where \"[body-site]='gut'\" \\\n",
    "  --o-filtered-table gut-table.qza"
   ]
  },
  {
   "cell_type": "code",
   "execution_count": null,
   "metadata": {},
   "outputs": [],
   "source": [
    "# ANCOM operates on a FeatureTable[Composition] QIIME 2 artifact, which is based on frequencies of features on a per-sample basis, but cannot tolerate frequencies of zero. \n",
    "# To build the composition artifact, a FeatureTable[Frequency] artifact must be provided to add-pseudocount (an imputation method), which will produce the FeatureTable[Composition] artifact.\n",
    "\n",
    "!qiime composition add-pseudocount \\\n",
    "  --i-table gut-table.qza \\\n",
    "  --o-composition-table comp-gut-table.qza"
   ]
  },
  {
   "cell_type": "code",
   "execution_count": null,
   "metadata": {},
   "outputs": [],
   "source": [
    "# run ANCOM on the subject column to determine what features differ in abundance across the gut samples of the two subjects.\n",
    "\n",
    "!qiime composition ancom \\\n",
    "  --i-table comp-gut-table.qza \\\n",
    "  --m-metadata-file sample-metadata.tsv \\\n",
    "  --m-metadata-column subject \\\n",
    "  --o-visualization ancom-Subject.qzv\n",
    "\n",
    "q2.Visualization.load('ancom-Subject.qzv')"
   ]
  },
  {
   "cell_type": "code",
   "execution_count": null,
   "metadata": {},
   "outputs": [],
   "source": [
    "#To look at differential abundance at a different taxonomic level\n",
    "\n",
    "!qiime taxa collapse \\\n",
    "  --i-table gut-table.qza \\\n",
    "  --i-taxonomy taxonomy.qza \\\n",
    "  --p-level 6 \\\n",
    "  --o-collapsed-table gut-table-l6.qza"
   ]
  },
  {
   "cell_type": "code",
   "execution_count": null,
   "metadata": {},
   "outputs": [],
   "source": [
    "# Redo the add-pseudocount on the new table\n",
    "\n",
    "!qiime composition add-pseudocount \\\n",
    "  --i-table gut-table-l6.qza \\\n",
    "  --o-composition-table comp-gut-table-l6.qza"
   ]
  },
  {
   "cell_type": "code",
   "execution_count": null,
   "metadata": {},
   "outputs": [],
   "source": [
    "#Run the analysis on the collapsed taxonomy\n",
    "\n",
    "!qiime composition ancom \\\n",
    "  --i-table comp-gut-table-l6.qza \\\n",
    "  --m-metadata-file sample-metadata.tsv \\\n",
    "  --m-metadata-column subject \\\n",
    "  --o-visualization l6-ancom-Subject.qzv\n",
    "\n",
    "q2.Visualization.load('l6-ancom-Subject.qzv')"
   ]
  },
  {
   "cell_type": "code",
   "execution_count": null,
   "metadata": {},
   "outputs": [],
   "source": []
  }
 ],
 "metadata": {
  "kernelspec": {
   "display_name": "Python 3",
   "language": "python",
   "name": "python3"
  },
  "language_info": {
   "codemirror_mode": {
    "name": "ipython",
    "version": 3
   },
   "file_extension": ".py",
   "mimetype": "text/x-python",
   "name": "python",
   "nbconvert_exporter": "python",
   "pygments_lexer": "ipython3",
   "version": "3.8.5"
  }
 },
 "nbformat": 4,
 "nbformat_minor": 4
}
